{
 "cells": [
  {
   "cell_type": "code",
   "execution_count": 18,
   "metadata": {},
   "outputs": [
    {
     "name": "stdout",
     "output_type": "stream",
     "text": [
      "joao(24)\n"
     ]
    }
   ],
   "source": [
    "class Pessoa:\n",
    "    def __init__(self, nome, idade):\n",
    "        self.nome = nome\n",
    "        self.idade = idade\n",
    "        \n",
    "    def __str__(self):\n",
    "        return f\"{self.nome}({self.idade})\"\n",
    "    \n",
    "p1 = Pessoa(\"joao\", 24)\n",
    "print(p1)"
   ]
  },
  {
   "cell_type": "code",
   "execution_count": 19,
   "metadata": {},
   "outputs": [
    {
     "name": "stdout",
     "output_type": "stream",
     "text": [
      "pedro(25)\n"
     ]
    }
   ],
   "source": [
    "class Heranca(Pessoa):\n",
    "    def __init__(self, nome, idade):\n",
    "        super().__init__(nome, idade)\n",
    "\n",
    "x = Heranca(\"pedro\", 25)\n",
    "\n",
    "print(x)"
   ]
  },
  {
   "cell_type": "code",
   "execution_count": 20,
   "metadata": {},
   "outputs": [
    {
     "name": "stdout",
     "output_type": "stream",
     "text": [
      "maça\n",
      "banana\n",
      "maça\n",
      "banana\n",
      "cereja\n"
     ]
    }
   ],
   "source": [
    "minhatupla = (\"maça\", \"banana\", \"cereja\")\n",
    "meuiterador = iter(minhatupla)\n",
    "print(next(meuiterador))\n",
    "print(next(meuiterador))\n",
    "\n",
    "for x in minhatupla:\n",
    "    print(x)"
   ]
  },
  {
   "cell_type": "code",
   "execution_count": 30,
   "metadata": {},
   "outputs": [
    {
     "name": "stdout",
     "output_type": "stream",
     "text": [
      "300\n",
      "300\n",
      "300\n"
     ]
    }
   ],
   "source": [
    "def funcao():\n",
    "    xlocal = 300\n",
    "    print(xlocal)\n",
    "funcao()\n",
    "\n",
    "xglobal = 300\n",
    "\n",
    "def myFunc():\n",
    "    print(xglobal)\n",
    "    \n",
    "myFunc()\n",
    "funcao()\n"
   ]
  },
  {
   "cell_type": "code",
   "execution_count": 32,
   "metadata": {},
   "outputs": [
    {
     "name": "stdout",
     "output_type": "stream",
     "text": [
      "<re.Match object; span=(0, 36), match='teste de expressão regular em python'>\n"
     ]
    }
   ],
   "source": [
    "import re\n",
    "\n",
    "txt = \"teste de expressão regular em python\"\n",
    "\n",
    "x = re.search(\"^teste.*python$\", txt)\n",
    "\n",
    "print(x)"
   ]
  }
 ],
 "metadata": {
  "kernelspec": {
   "display_name": "Python 3",
   "language": "python",
   "name": "python3"
  },
  "language_info": {
   "codemirror_mode": {
    "name": "ipython",
    "version": 3
   },
   "file_extension": ".py",
   "mimetype": "text/x-python",
   "name": "python",
   "nbconvert_exporter": "python",
   "pygments_lexer": "ipython3",
   "version": "3.11.5"
  },
  "orig_nbformat": 4
 },
 "nbformat": 4,
 "nbformat_minor": 2
}
