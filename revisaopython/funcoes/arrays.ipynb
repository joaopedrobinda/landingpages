{
 "cells": [
  {
   "cell_type": "code",
   "execution_count": 18,
   "metadata": {},
   "outputs": [
    {
     "name": "stdout",
     "output_type": "stream",
     "text": [
      "<class 'list'>\n",
      "<class 'str'>\n",
      "['ford', 'volvo', 'bmw', 'mercedes', 'mercedes']\n",
      "mercedes\n",
      "['volvo', 'mercedes', 'ford', 'bmw']\n"
     ]
    }
   ],
   "source": [
    "import numpy as np\n",
    "\n",
    "carros = [\"ford\", \"volvo\", \"bmw\"]\n",
    "x = carros[0]\n",
    "print(type(carros)) #array é uma lista\n",
    "print(type(x))\n",
    "carros.append(\"mercedes\")\n",
    "carros.append(\"mercedes\")\n",
    "print(carros)\n",
    "print(carros.pop(4))\n",
    "carros.sort(reverse=True)\n",
    "print(carros)"
   ]
  }
 ],
 "metadata": {
  "kernelspec": {
   "display_name": "Python 3",
   "language": "python",
   "name": "python3"
  },
  "language_info": {
   "codemirror_mode": {
    "name": "ipython",
    "version": 3
   },
   "file_extension": ".py",
   "mimetype": "text/x-python",
   "name": "python",
   "nbconvert_exporter": "python",
   "pygments_lexer": "ipython3",
   "version": "3.11.5"
  },
  "orig_nbformat": 4
 },
 "nbformat": 4,
 "nbformat_minor": 2
}
